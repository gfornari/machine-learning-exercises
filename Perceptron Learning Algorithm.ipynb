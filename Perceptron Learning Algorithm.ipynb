{
 "cells": [
  {
   "cell_type": "markdown",
   "metadata": {},
   "source": [
    "The Perceptron Learning Algorithm presented here assumes that the training examples are linearly separable, that is, there exsit an hyperplane able to split them.\n",
    "\n",
    "The input of the algorithm consists a training set $S = {(\\mathbf{x}, t)}$, $x \\in \\mathbb{R}^{n+1}$, $\\mathbf{x} \\in {-1, +1}$, $\\eta \\ge 0$. The $\\eta$ parameter represents the learning rate, the higher it is, the "
   ]
  },
  {
   "cell_type": "code",
   "execution_count": 1,
   "metadata": {},
   "outputs": [
    {
     "data": {
      "text/plain": [
       "array([-0.2520721 ,  3.63323259,  0.52487305,  1.43065701,  0.95813654,\n",
       "        4.96819298,  1.40609992,  4.56714196, -6.07156598, -0.69700449,\n",
       "       -5.6004193 , -0.91399633, -8.47227827, -0.70906694,  5.51462885,\n",
       "        0.97739042,  2.80803528,  1.79249528, -1.26184564,  5.61705177])"
      ]
     },
     "execution_count": 1,
     "metadata": {},
     "output_type": "execute_result"
    }
   ],
   "source": [
    "import random\n",
    "import numpy as np\n",
    "\n",
    "def sign(x):\n",
    "    return np.sign(x) or 1\n",
    "\n",
    "def perceptron(X, y, eta=1, iterations=10000):\n",
    "    w = np.random.rand(len(y))\n",
    "    while iterations > 0:\n",
    "        i = random.randint(1, len(X)-1)\n",
    "        x = X[i]\n",
    "        o = sign(np.dot(w, x))\n",
    "        t = y[i]\n",
    "        if o != t:\n",
    "            w += eta * (t - o) * x\n",
    "        iterations -= 1\n",
    "    return w\n",
    "\n",
    "X = np.random.rand(10, 20)\n",
    "y = np.random.choice([-1,1], 20)\n",
    "\n",
    "perceptron(X, y)"
   ]
  },
  {
   "cell_type": "code",
   "execution_count": null,
   "metadata": {},
   "outputs": [],
   "source": []
  }
 ],
 "metadata": {
  "kernelspec": {
   "display_name": "Python 3",
   "language": "python",
   "name": "python3"
  },
  "language_info": {
   "codemirror_mode": {
    "name": "ipython",
    "version": 3
   },
   "file_extension": ".py",
   "mimetype": "text/x-python",
   "name": "python",
   "nbconvert_exporter": "python",
   "pygments_lexer": "ipython3",
   "version": "3.5.2"
  }
 },
 "nbformat": 4,
 "nbformat_minor": 2
}
